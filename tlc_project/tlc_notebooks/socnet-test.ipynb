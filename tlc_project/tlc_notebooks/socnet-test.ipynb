{
 "cells": [
  {
   "cell_type": "code",
   "execution_count": 1,
   "metadata": {
    "collapsed": true
   },
   "outputs": [],
   "source": [
    "import pandas as pd"
   ]
  },
  {
   "cell_type": "code",
   "execution_count": 2,
   "metadata": {
    "collapsed": false
   },
   "outputs": [],
   "source": [
    "from collections import OrderedDict\n",
    "friend_roomate = pd.DataFrame(\n",
    "    OrderedDict({\n",
    "    'id1': ['glo', 'dan', 'billy', 'dan', 'glo', 'james', 'mer', 'ben', 'ben'],\n",
    "    'acttype1': ['f', 'f', 'f', 'f', 'r', 'f', 'f', 'f', 'r'],\n",
    "    'id2': ['dan', 'billy', 'glo', 'trey', 'john', 'alex', 'james', 'glo', 'glo'],\n",
    "    'acttype2': ['f', 'f', 'r', 'f', 'r', 'f', 'f', 'f', 'r']\n",
    "}))\n",
    "\n",
    "print(friend_roomate)\n",
    "\n",
    "p1 = friend_roomate[['id1', 'acttype1']]\n",
    "p2 = friend_roomate[['id2', 'acttype2']]\n",
    "\n",
    "p1.columns = ['v1', 'v2']\n",
    "p2.columns = ['v1', 'v2']"
   ]
  },
  {
   "cell_type": "code",
   "execution_count": 3,
   "metadata": {
    "collapsed": false
   },
   "outputs": [
    {
     "data": {
      "text/html": [
       "<div>\n",
       "<table border=\"1\" class=\"dataframe\">\n",
       "  <thead>\n",
       "    <tr style=\"text-align: right;\">\n",
       "      <th></th>\n",
       "      <th>v1</th>\n",
       "      <th>v2</th>\n",
       "    </tr>\n",
       "  </thead>\n",
       "  <tbody>\n",
       "    <tr>\n",
       "      <th>1</th>\n",
       "      <td>ben</td>\n",
       "      <td>2</td>\n",
       "    </tr>\n",
       "    <tr>\n",
       "      <th>4</th>\n",
       "      <td>glo</td>\n",
       "      <td>2</td>\n",
       "    </tr>\n",
       "  </tbody>\n",
       "</table>\n",
       "</div>"
      ],
      "text/plain": [
       "    v1  v2\n",
       "1  ben   2\n",
       "4  glo   2"
      ]
     },
     "execution_count": 3,
     "metadata": {},
     "output_type": "execute_result"
    }
   ],
   "source": [
    "l = pd.concat([p1, p2])\n",
    "c = l.groupby(['v1'])['v2'].unique().str.len().reset_index()\n",
    "c.loc[c['v2'] >= 2, :]"
   ]
  },
  {
   "cell_type": "code",
   "execution_count": 4,
   "metadata": {
    "collapsed": false
   },
   "outputs": [
    {
     "data": {
      "text/html": [
       "<div>\n",
       "<table border=\"1\" class=\"dataframe\">\n",
       "  <thead>\n",
       "    <tr style=\"text-align: right;\">\n",
       "      <th></th>\n",
       "      <th>v1</th>\n",
       "      <th>v2</th>\n",
       "      <th>v3</th>\n",
       "    </tr>\n",
       "  </thead>\n",
       "  <tbody>\n",
       "    <tr>\n",
       "      <th>1</th>\n",
       "      <td>ben</td>\n",
       "      <td>[f, r]</td>\n",
       "      <td>2</td>\n",
       "    </tr>\n",
       "    <tr>\n",
       "      <th>4</th>\n",
       "      <td>glo</td>\n",
       "      <td>[f, r]</td>\n",
       "      <td>2</td>\n",
       "    </tr>\n",
       "  </tbody>\n",
       "</table>\n",
       "</div>"
      ],
      "text/plain": [
       "    v1      v2  v3\n",
       "1  ben  [f, r]   2\n",
       "4  glo  [f, r]   2"
      ]
     },
     "execution_count": 4,
     "metadata": {},
     "output_type": "execute_result"
    }
   ],
   "source": [
    "l = pd.concat([p1, p2])\n",
    "c = l.groupby(['v1'])['v2'].unique().reset_index()\n",
    "\n",
    "c['v3'] = c['v2'].str.len()\n",
    "c.loc[c['v3'] >= 2, :]"
   ]
  },
  {
   "cell_type": "code",
   "execution_count": 10,
   "metadata": {
    "collapsed": false
   },
   "outputs": [],
   "source": [
    "d = c.loc[c['v3'] >= 2, :]"
   ]
  },
  {
   "cell_type": "code",
   "execution_count": 11,
   "metadata": {
    "collapsed": false
   },
   "outputs": [
    {
     "data": {
      "text/html": [
       "<div>\n",
       "<table border=\"1\" class=\"dataframe\">\n",
       "  <thead>\n",
       "    <tr style=\"text-align: right;\">\n",
       "      <th></th>\n",
       "      <th>v1</th>\n",
       "      <th>v2</th>\n",
       "      <th>v3</th>\n",
       "    </tr>\n",
       "  </thead>\n",
       "  <tbody>\n",
       "    <tr>\n",
       "      <th>1</th>\n",
       "      <td>ben</td>\n",
       "      <td>[f, r]</td>\n",
       "      <td>2</td>\n",
       "    </tr>\n",
       "    <tr>\n",
       "      <th>4</th>\n",
       "      <td>glo</td>\n",
       "      <td>[f, r]</td>\n",
       "      <td>2</td>\n",
       "    </tr>\n",
       "  </tbody>\n",
       "</table>\n",
       "</div>"
      ],
      "text/plain": [
       "    v1      v2  v3\n",
       "1  ben  [f, r]   2\n",
       "4  glo  [f, r]   2"
      ]
     },
     "execution_count": 11,
     "metadata": {},
     "output_type": "execute_result"
    }
   ],
   "source": [
    "d"
   ]
  },
  {
   "cell_type": "code",
   "execution_count": null,
   "metadata": {
    "collapsed": true
   },
   "outputs": [],
   "source": [
    "# dan's examples"
   ]
  },
  {
   "cell_type": "code",
   "execution_count": null,
   "metadata": {
    "collapsed": true
   },
   "outputs": [],
   "source": [
    "from collections import OrderedDict\n",
    "friend_roomate = pd.DataFrame(\n",
    "    OrderedDict({\n",
    "    'id1': ['glo', 'dan', 'billy', 'dan', 'glo', 'james', 'mer'],\n",
    "    'acttype1': ['f', 'f', 'f', 'f', 'r', 'f', 'f'],\n",
    "    'id2': ['dan', 'billy', 'glo', 'trey', 'john', 'alex', 'james'],\n",
    "    'acttype2': ['f', 'f', 'r', 'f', 'r', 'f', 'f']\n",
    "}))\n",
    "\n",
    "print(friend_roomate)\n",
    "\n",
    "p1 = friend_roomate[['id1', 'acttype1']]\n",
    "p2 = friend_roomate[['id2', 'acttype2']]\n",
    "\n",
    "different = p1[~p1.isin(p2)].dropna()\n",
    "different['id1'].unique()"
   ]
  },
  {
   "cell_type": "code",
   "execution_count": null,
   "metadata": {
    "collapsed": true
   },
   "outputs": [],
   "source": [
    "from collections import OrderedDict\n",
    "friend_roomate = pd.DataFrame(\n",
    "    OrderedDict({\n",
    "    'id1': ['glo', 'dan', 'billy', 'dan', 'glo', 'james', 'mer', 'ben', 'ben'],\n",
    "    'acttype1': ['f', 'f', 'f', 'f', 'r', 'f', 'f', 'f', 'r'],\n",
    "    'id2': ['dan', 'billy', 'glo', 'trey', 'john', 'alex', 'james', 'glo', 'glo'],\n",
    "    'acttype2': ['f', 'f', 'r', 'f', 'r', 'f', 'f', 'f', 'r']\n",
    "}))\n",
    "\n",
    "print(friend_roomate)\n",
    "\n",
    "p1 = friend_roomate[['id1', 'acttype1']]\n",
    "p2 = friend_roomate[['id2', 'acttype2']]\n",
    "\n",
    "p1.columns = ['v1', 'v2']\n",
    "p2.columns = ['v1', 'v2']\n",
    "\n",
    "l = pd.concat([p1, p2])\n",
    "c = l.groupby(['v1'])['v2'].unique().str.len().reset_index()\n",
    "c.loc[c['v2'] >= 2, :]"
   ]
  },
  {
   "cell_type": "code",
   "execution_count": null,
   "metadata": {
    "collapsed": true
   },
   "outputs": [],
   "source": [
    "l = pd.concat([p1, p2])\n",
    "c = l.groupby(['v1'])['v2'].unique().reset_index()\n",
    "\n",
    "c['v3'] = c['v2'].str.len()\n",
    "\n",
    "c.loc[c['v3'] >= 2, :]"
   ]
  },
  {
   "cell_type": "code",
   "execution_count": null,
   "metadata": {
    "collapsed": true
   },
   "outputs": [],
   "source": []
  }
 ],
 "metadata": {
  "kernelspec": {
   "display_name": "Python 2",
   "language": "python",
   "name": "python2"
  },
  "language_info": {
   "codemirror_mode": {
    "name": "ipython",
    "version": 2
   },
   "file_extension": ".py",
   "mimetype": "text/x-python",
   "name": "python",
   "nbconvert_exporter": "python",
   "pygments_lexer": "ipython2",
   "version": "2.7.12"
  }
 },
 "nbformat": 4,
 "nbformat_minor": 1
}
